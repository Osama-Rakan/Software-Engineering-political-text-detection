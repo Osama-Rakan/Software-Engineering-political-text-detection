{
 "cells": [
  {
   "cell_type": "code",
   "execution_count": 1,
   "id": "f37b8b95",
   "metadata": {},
   "outputs": [],
   "source": [
    "import pandas as pd\n",
    "import re\n",
    "import time\n",
    "from tashaphyne.stemming import ArabicLightStemmer\n",
    "from sklearn.feature_extraction.text import TfidfVectorizer\n",
    "from sklearn.model_selection import train_test_split\n",
    "from sklearn import svm\n",
    "from sklearn.metrics import classification_report\n",
    "import warnings\n",
    "from sklearn.feature_extraction.text import CountVectorizer\n",
    "from wordcloud import WordCloud, ImageColorGenerator\n",
    "from PIL import Image\n",
    "warnings.filterwarnings('ignore')\n",
    "import matplotlib.pyplot as plt\n",
    "import numpy as np\n",
    "import re\n",
    "import nltk\n",
    "from nltk.stem import PorterStemmer\n",
    "from nltk.stem import LancasterStemmer\n",
    "from nltk.stem import WordNetLemmatizer\n",
    "from nltk.corpus import stopwords\n",
    "from nltk.tokenize import word_tokenize\n",
    "from sklearn.metrics import confusion_matrix\n",
    "from sklearn.metrics import auc\n",
    "from sklearn.metrics import f1_score\n",
    "from sklearn.metrics import recall_score\n",
    "from sklearn.metrics import accuracy_score\n",
    "from sklearn.metrics import precision_score\n",
    "import seaborn as sns\n",
    "import numpy as np\n",
    "from sklearn import metrics\n",
    "from xgboost import XGBClassifier\n",
    "from sklearn.ensemble import RandomForestClassifier\n",
    "import lightgbm as lgb\n",
    "from sklearn.naive_bayes import GaussianNB"
   ]
  },
  {
   "cell_type": "code",
   "execution_count": 2,
   "id": "f96e9548",
   "metadata": {},
   "outputs": [],
   "source": [
    "class TextCleaner:\n",
    "    def __init__(self, only_english_characters=True,\n",
    "                 remove_numbers=True, stemming=True,\n",
    "                 remove_long_words=True, remove_links=True,\n",
    "                 remove_hashtags_mentions=True):\n",
    "        self.__only_english_characters=only_english_characters\n",
    "        self.__remove_numbers=remove_numbers\n",
    "        self.__stemming=stemming\n",
    "        self.__remove_long_words=remove_long_words\n",
    "        self.__remove_links=remove_links\n",
    "        self.__remove_hashtags_mentions=remove_hashtags_mentions\n",
    "                  \n",
    "    def general_text_cleaning(self, text):\n",
    "        if self.__remove_hashtags_mentions:\n",
    "            text = ' '.join(re.sub(\"(@[A-Za-z0-9]+)|([^0-9A-Za-z \\t])|(\\w+:\\/\\/\\S+)\",\" \",text).split())\n",
    "\n",
    "        lemmatization = WordNetLemmatizer()\n",
    "        newText = ''\n",
    "        for word in text:\n",
    "            newText += lemmatization.lemmatize(word)    \n",
    "        text = newText.strip()\n",
    "\n",
    "            \n",
    "        if self.__only_english_characters:\n",
    "            text = re.sub(\"[^A-Za-z ]\", \"\", text)\n",
    "            text = re.sub(' +', ' ', text)\n",
    "        \n",
    "\n",
    "        \n",
    "\n",
    "        if self.__remove_numbers:\n",
    "            text = re.sub('^\\d+\\s|\\s\\d+\\s|\\s\\d+$', '', text)\n",
    "            text = re.sub(' +', ' ', text)\n",
    "        \n",
    "        if self.__remove_links:\n",
    "            text = re.sub(r'http\\S+', '', text)\n",
    "        \n",
    "        if self.__remove_long_words:\n",
    "            result = []\n",
    "            textList = text.split()\n",
    "            for word in textList:\n",
    "                if len(word) <= 15:\n",
    "                    result.append(word)\n",
    "\n",
    "            text = ' '.join(result)\n",
    "        \n",
    "        if self.__stemming:\n",
    "            porter = PorterStemmer()\n",
    "            newText = ''\n",
    "            for word in text:\n",
    "                newText += porter.stem(word)\n",
    "                \n",
    "            text = newText.strip()\n",
    "        \n",
    "        stop_words = {\"amp\", \"0o\", \"0s\", \"3a\", \"3b\", \"3d\", \"6b\", \"6o\", \"a\", \"a1\", \"a2\", \"a3\", \"a4\", \"ab\", \"able\", \"about\", \"above\", \"abst\", \"ac\", \"accordance\", \"according\", \"accordingly\", \"across\", \"act\", \"actually\", \"ad\", \"added\", \"adj\", \"ae\", \"af\", \"affected\", \"affecting\", \"affects\", \"after\", \"afterwards\", \"ag\", \"again\", \"against\", \"ah\", \"ain\", \"ain't\", \"aj\", \"al\", \"all\", \"allow\", \"allows\", \"almost\", \"alone\", \"along\", \"already\", \"also\", \"although\", \"always\", \"am\", \"among\", \"amongst\", \"amoungst\", \"amount\", \"an\", \"and\", \"announce\", \"another\", \"any\", \"anybody\", \"anyhow\", \"anymore\", \"anyone\", \"anything\", \"anyway\", \"anyways\", \"anywhere\", \"ao\", \"ap\", \"apart\", \"apparently\", \"appear\", \"appreciate\", \"appropriate\", \"approximately\", \"ar\", \"are\", \"aren\", \"arent\", \"aren't\", \"arise\", \"around\", \"as\", \"a's\", \"aside\", \"ask\", \"asking\", \"associated\", \"at\", \"au\", \"auth\", \"av\", \"available\", \"aw\", \"away\", \"awfully\", \"ax\", \"ay\", \"az\", \"b\", \"b1\", \"b2\", \"b3\", \"ba\", \"back\", \"bc\", \"bd\", \"be\", \"became\", \"because\", \"become\", \"becomes\", \"becoming\", \"been\", \"before\", \"beforehand\", \"begin\", \"beginning\", \"beginnings\", \"begins\", \"behind\", \"being\", \"believe\", \"below\", \"beside\", \"besides\", \"best\", \"better\", \"between\", \"beyond\", \"bi\", \"bill\", \"biol\", \"bj\", \"bk\", \"bl\", \"bn\", \"both\", \"bottom\", \"bp\", \"br\", \"brief\", \"briefly\", \"bs\", \"bt\", \"bu\", \"but\", \"bx\", \"by\", \"c\", \"c1\", \"c2\", \"c3\", \"ca\", \"call\", \"came\", \"can\", \"cannot\", \"cant\", \"can't\", \"cause\", \"causes\", \"cc\", \"cd\", \"ce\", \"certain\", \"certainly\", \"cf\", \"cg\", \"ch\", \"changes\", \"ci\", \"cit\", \"cj\", \"cl\", \"clearly\", \"cm\", \"c'mon\", \"cn\", \"co\", \"com\", \"come\", \"comes\", \"con\", \"concerning\", \"consequently\", \"consider\", \"considering\", \"contain\", \"containing\", \"contains\", \"corresponding\", \"could\", \"couldn\", \"couldnt\", \"couldn't\", \"course\", \"cp\", \"cq\", \"cr\", \"cry\", \"cs\", \"c's\", \"ct\", \"cu\", \"currently\", \"cv\", \"cx\", \"cy\", \"cz\", \"d\", \"d2\", \"da\", \"date\", \"dc\", \"dd\", \"de\", \"definitely\", \"describe\", \"described\", \"despite\", \"detail\", \"df\", \"di\", \"did\", \"didn\", \"didn't\", \"different\", \"dj\", \"dk\", \"dl\", \"do\", \"does\", \"doesn\", \"doesn't\", \"doing\", \"don\", \"done\", \"don't\", \"down\", \"downwards\", \"dp\", \"dr\", \"ds\", \"dt\", \"du\", \"due\", \"during\", \"dx\", \"dy\", \"e\", \"e2\", \"e3\", \"ea\", \"each\", \"ec\", \"ed\", \"edu\", \"ee\", \"ef\", \"effect\", \"eg\", \"ei\", \"eight\", \"eighty\", \"either\", \"ej\", \"el\", \"eleven\", \"else\", \"elsewhere\", \"em\", \"empty\", \"en\", \"end\", \"ending\", \"enough\", \"entirely\", \"eo\", \"ep\", \"eq\", \"er\", \"es\", \"especially\", \"est\", \"et\", \"et-al\", \"etc\", \"eu\", \"ev\", \"even\", \"ever\", \"every\", \"everybody\", \"everyone\", \"everything\", \"everywhere\", \"ex\", \"exactly\", \"example\", \"except\", \"ey\", \"f\", \"f2\", \"fa\", \"far\", \"fc\", \"few\", \"ff\", \"fi\", \"fifteen\", \"fifth\", \"fify\", \"fill\", \"find\", \"fire\", \"first\", \"five\", \"fix\", \"fj\", \"fl\", \"fn\", \"fo\", \"followed\", \"following\", \"follows\", \"for\", \"former\", \"formerly\", \"forth\", \"forty\", \"found\", \"four\", \"fr\", \"from\", \"front\", \"fs\", \"ft\", \"fu\", \"full\", \"further\", \"furthermore\", \"fy\", \"g\", \"ga\", \"gave\", \"ge\", \"get\", \"gets\", \"getting\", \"gi\", \"give\", \"given\", \"gives\", \"giving\", \"gj\", \"gl\", \"go\", \"goes\", \"going\", \"gone\", \"got\", \"gotten\", \"gr\", \"greetings\", \"gs\", \"gy\", \"h\", \"h2\", \"h3\", \"had\", \"hadn\", \"hadn't\", \"happens\", \"hardly\", \"has\", \"hasn\", \"hasnt\", \"hasn't\", \"have\", \"haven\", \"haven't\", \"having\", \"he\", \"hed\", \"he'd\", \"he'll\", \"hello\", \"help\", \"hence\", \"her\", \"here\", \"hereafter\", \"hereby\", \"herein\", \"heres\", \"here's\", \"hereupon\", \"hers\", \"herself\", \"hes\", \"he's\", \"hh\", \"hi\", \"hid\", \"him\", \"himself\", \"his\", \"hither\", \"hj\", \"ho\", \"home\", \"hopefully\", \"how\", \"howbeit\", \"however\", \"how's\", \"hr\", \"hs\", \"http\", \"hu\", \"hundred\", \"hy\", \"i\", \"i2\", \"i3\", \"i4\", \"i6\", \"i7\", \"i8\", \"ia\", \"ib\", \"ibid\", \"ic\", \"id\", \"i'd\", \"ie\", \"if\", \"ig\", \"ignored\", \"ih\", \"ii\", \"ij\", \"il\", \"i'll\", \"im\", \"i'm\", \"immediate\", \"immediately\", \"importance\", \"important\", \"in\", \"inasmuch\", \"inc\", \"indeed\", \"index\", \"indicate\", \"indicated\", \"indicates\", \"information\", \"inner\", \"insofar\", \"instead\", \"interest\", \"into\", \"invention\", \"inward\", \"io\", \"ip\", \"iq\", \"ir\", \"is\", \"isn\", \"isn't\", \"it\", \"itd\", \"it'd\", \"it'll\", \"its\", \"it's\", \"itself\", \"iv\", \"i've\", \"ix\", \"iy\", \"iz\", \"j\", \"jj\", \"jr\", \"js\", \"jt\", \"ju\", \"just\", \"k\", \"ke\", \"keep\", \"keeps\", \"kept\", \"kg\", \"kj\", \"km\", \"know\", \"known\", \"knows\", \"ko\", \"l\", \"l2\", \"la\", \"largely\", \"last\", \"lately\", \"later\", \"latter\", \"latterly\", \"lb\", \"lc\", \"le\", \"least\", \"les\", \"less\", \"lest\", \"let\", \"lets\", \"let's\", \"lf\", \"like\", \"liked\", \"likely\", \"line\", \"little\", \"lj\", \"ll\", \"ll\", \"ln\", \"lo\", \"look\", \"looking\", \"looks\", \"los\", \"lr\", \"ls\", \"lt\", \"ltd\", \"m\", \"m2\", \"ma\", \"made\", \"mainly\", \"make\", \"makes\", \"many\", \"may\", \"maybe\", \"me\", \"mean\", \"means\", \"meantime\", \"meanwhile\", \"merely\", \"mg\", \"might\", \"mightn\", \"mightn't\", \"mill\", \"million\", \"mine\", \"miss\", \"ml\", \"mn\", \"mo\", \"more\", \"moreover\", \"most\", \"mostly\", \"move\", \"mr\", \"mrs\", \"ms\", \"mt\", \"mu\", \"much\", \"mug\", \"must\", \"mustn\", \"mustn't\", \"my\", \"myself\", \"n\", \"n2\", \"na\", \"name\", \"namely\", \"nay\", \"nc\", \"nd\", \"ne\", \"near\", \"nearly\", \"necessarily\", \"necessary\", \"need\", \"needn\", \"needn't\", \"needs\", \"neither\", \"never\", \"nevertheless\", \"new\", \"next\", \"ng\", \"ni\", \"nine\", \"ninety\", \"nj\", \"nl\", \"nn\", \"no\", \"nobody\", \"non\", \"none\", \"nonetheless\", \"noone\", \"nor\", \"normally\", \"nos\", \"not\", \"noted\", \"nothing\", \"novel\", \"now\", \"nowhere\", \"nr\", \"ns\", \"nt\", \"ny\", \"o\", \"oa\", \"ob\", \"obtain\", \"obtained\", \"obviously\", \"oc\", \"od\", \"of\", \"off\", \"often\", \"og\", \"oh\", \"oi\", \"oj\", \"ok\", \"okay\", \"ol\", \"old\", \"om\", \"omitted\", \"on\", \"once\", \"one\", \"ones\", \"only\", \"onto\", \"oo\", \"op\", \"oq\", \"or\", \"ord\", \"os\", \"ot\", \"other\", \"others\", \"otherwise\", \"ou\", \"ought\", \"our\", \"ours\", \"ourselves\", \"out\", \"outside\", \"over\", \"overall\", \"ow\", \"owing\", \"own\", \"ox\", \"oz\", \"p\", \"p1\", \"p2\", \"p3\", \"page\", \"pagecount\", \"pages\", \"par\", \"part\", \"particular\", \"particularly\", \"pas\", \"past\", \"pc\", \"pd\", \"pe\", \"per\", \"perhaps\", \"pf\", \"ph\", \"pi\", \"pj\", \"pk\", \"pl\", \"placed\", \"please\", \"plus\", \"pm\", \"pn\", \"po\", \"poorly\", \"possible\", \"possibly\", \"potentially\", \"pp\", \"pq\", \"pr\", \"predominantly\", \"present\", \"presumably\", \"previously\", \"primarily\", \"probably\", \"promptly\", \"proud\", \"provides\", \"ps\", \"pt\", \"pu\", \"put\", \"py\", \"q\", \"qj\", \"qu\", \"que\", \"quickly\", \"quite\", \"qv\", \"r\", \"r2\", \"ra\", \"ran\", \"rather\", \"rc\", \"rd\", \"re\", \"readily\", \"really\", \"reasonably\", \"recent\", \"recently\", \"ref\", \"refs\", \"regarding\", \"regardless\", \"regards\", \"related\", \"relatively\", \"research\", \"research-articl\", \"respectively\", \"resulted\", \"resulting\", \"results\", \"rf\", \"rh\", \"ri\", \"right\", \"rj\", \"rl\", \"rm\", \"rn\", \"ro\", \"rq\", \"rr\", \"rs\", \"rt\", \"ru\", \"run\", \"rv\", \"ry\", \"s\", \"s2\", \"sa\", \"said\", \"same\", \"saw\", \"say\", \"saying\", \"says\", \"sc\", \"sd\", \"se\", \"sec\", \"second\", \"secondly\", \"section\", \"see\", \"seeing\", \"seem\", \"seemed\", \"seeming\", \"seems\", \"seen\", \"self\", \"selves\", \"sensible\", \"sent\", \"serious\", \"seriously\", \"seven\", \"several\", \"sf\", \"shall\", \"shan\", \"shan't\", \"she\", \"shed\", \"she'd\", \"she'll\", \"shes\", \"she's\", \"should\", \"shouldn\", \"shouldn't\", \"should've\", \"show\", \"showed\", \"shown\", \"showns\", \"shows\", \"si\", \"side\", \"significant\", \"significantly\", \"similar\", \"similarly\", \"since\", \"sincere\", \"six\", \"sixty\", \"sj\", \"sl\", \"slightly\", \"sm\", \"sn\", \"so\", \"some\", \"somebody\", \"somehow\", \"someone\", \"somethan\", \"something\", \"sometime\", \"sometimes\", \"somewhat\", \"somewhere\", \"soon\", \"sorry\", \"sp\", \"specifically\", \"specified\", \"specify\", \"specifying\", \"sq\", \"sr\", \"ss\", \"st\", \"still\", \"stop\", \"strongly\", \"sub\", \"substantially\", \"successfully\", \"such\", \"sufficiently\", \"suggest\", \"sup\", \"sure\", \"sy\", \"system\", \"sz\", \"t\", \"t1\", \"t2\", \"t3\", \"take\", \"taken\", \"taking\", \"tb\", \"tc\", \"td\", \"te\", \"tell\", \"ten\", \"tends\", \"tf\", \"th\", \"than\", \"thank\", \"thanks\", \"thanx\", \"that\", \"that'll\", \"thats\", \"that's\", \"that've\", \"the\", \"their\", \"theirs\", \"them\", \"themselves\", \"then\", \"thence\", \"there\", \"thereafter\", \"thereby\", \"thered\", \"therefore\", \"therein\", \"there'll\", \"thereof\", \"therere\", \"theres\", \"there's\", \"thereto\", \"thereupon\", \"there've\", \"these\", \"they\", \"theyd\", \"they'd\", \"they'll\", \"theyre\", \"they're\", \"they've\", \"thickv\", \"thin\", \"think\", \"third\", \"this\", \"thorough\", \"thoroughly\", \"those\", \"thou\", \"though\", \"thoughh\", \"thousand\", \"three\", \"throug\", \"through\", \"throughout\", \"thru\", \"thus\", \"ti\", \"til\", \"tip\", \"tj\", \"tl\", \"tm\", \"tn\", \"to\", \"together\", \"too\", \"took\", \"top\", \"toward\", \"towards\", \"tp\", \"tq\", \"tr\", \"tried\", \"tries\", \"truly\", \"try\", \"trying\", \"ts\", \"t's\", \"tt\", \"tv\", \"twelve\", \"twenty\", \"twice\", \"two\", \"tx\", \"u\", \"u201d\", \"ue\", \"ui\", \"uj\", \"uk\", \"um\", \"un\", \"under\", \"unfortunately\", \"unless\", \"unlike\", \"unlikely\", \"until\", \"unto\", \"uo\", \"up\", \"upon\", \"ups\", \"ur\", \"us\", \"use\", \"used\", \"useful\", \"usefully\", \"usefulness\", \"uses\", \"using\", \"usually\", \"ut\", \"v\", \"va\", \"value\", \"various\", \"vd\", \"ve\", \"ve\", \"very\", \"via\", \"viz\", \"vj\", \"vo\", \"vol\", \"vols\", \"volumtype\", \"vq\", \"vs\", \"vt\", \"vu\", \"w\", \"wa\", \"want\", \"wants\", \"was\", \"wasn\", \"wasnt\", \"wasn't\", \"way\", \"we\", \"wed\", \"we'd\", \"welcome\", \"well\", \"we'll\", \"well-b\", \"went\", \"were\", \"we're\", \"weren\", \"werent\", \"weren't\", \"we've\", \"what\", \"whatever\", \"what'll\", \"whats\", \"what's\", \"when\", \"whence\", \"whenever\", \"when's\", \"where\", \"whereafter\", \"whereas\", \"whereby\", \"wherein\", \"wheres\", \"where's\", \"whereupon\", \"wherever\", \"whether\", \"which\", \"while\", \"whim\", \"whither\", \"who\", \"whod\", \"whoever\", \"whole\", \"who'll\", \"whom\", \"whomever\", \"whos\", \"who's\", \"whose\", \"why\", \"why's\", \"wi\", \"widely\", \"will\", \"willing\", \"wish\", \"with\", \"within\", \"without\", \"wo\", \"won\", \"wonder\", \"wont\", \"won't\", \"words\", \"world\", \"would\", \"wouldn\", \"wouldnt\", \"wouldn't\", \"www\", \"x\", \"x1\", \"x2\", \"x3\", \"xf\", \"xi\", \"xj\", \"xk\", \"xl\", \"xn\", \"xo\", \"xs\", \"xt\", \"xv\", \"xx\", \"y\", \"y2\", \"yes\", \"yet\", \"yj\", \"yl\", \"you\", \"youd\", \"you'd\", \"you'll\", \"your\", \"youre\", \"you're\", \"yours\", \"yourself\", \"yourselves\", \"you've\", \"yr\", \"ys\", \"yt\", \"z\", \"zero\", \"zi\", \"zz\"}\n",
    "        word_tokens = word_tokenize(text)\n",
    "        filtered_sentence = [w for w in word_tokens if not w.lower() in stop_words]\n",
    "        filtered_sentence = []\n",
    " \n",
    "        for w in word_tokens:\n",
    "            if w not in stop_words:\n",
    "                filtered_sentence.append(w)\n",
    "\n",
    "        text = ' '.join(filtered_sentence)\n",
    "\n",
    "\n",
    "        return text\n",
    "    \n",
    "    def nlp_cleaning(self, df_train, df_test):\n",
    "        df_train = df_train.copy()\n",
    "        df_test = df_test.copy()\n",
    "        \n",
    "        X_train = df_train['text']\n",
    "        X_test = df_test['text']\n",
    "        y_train = df_train['class']\n",
    "        y_test = df_test['class']\n",
    "        \n",
    "        vectorizer = TfidfVectorizer(sublinear_tf = True,\n",
    "                                     use_idf = True)\n",
    "        train_vectors = vectorizer.fit_transform(X_train)\n",
    "        test_vectors = vectorizer.transform(X_test)\n",
    "        \n",
    "        return vectorizer, X_train, X_test, y_train, y_test, train_vectors, test_vectors\n",
    "    \n",
    "    \n",
    "    def all_cleaning(self, df='', df_test='', purpose=''):\n",
    "        df = df.copy()\n",
    "        for i in range(len(df['text'])):\n",
    "            text = self.general_text_cleaning(df['text'].iloc[i])\n",
    "            df['text'].iloc[i] = text\n",
    "        \n",
    "        if purpose == 'Show statistics':\n",
    "            return df\n",
    "        if purpose == 'Get predictions':\n",
    "            for i in range(len(df_test['text'])):\n",
    "                text = self.general_text_cleaning(df_test['text'].iloc[i])\n",
    "                df_test['text'].iloc[i] = text\n",
    "            vectorizer, X_train, X_test, y_train, y_test, train_vectors, test_vectors = self.nlp_cleaning(df, df_test)\n",
    "            return df, df_test, vectorizer, X_train, X_test, y_train, y_test, train_vectors, test_vectors"
   ]
  },
  {
   "cell_type": "code",
   "execution_count": 3,
   "id": "d616909d",
   "metadata": {},
   "outputs": [],
   "source": [
    "c1 = TextCleaner()"
   ]
  },
  {
   "cell_type": "code",
   "execution_count": 4,
   "id": "4dd588fc",
   "metadata": {},
   "outputs": [],
   "source": [
    "train = pd.read_csv('political_vs_normal_train.csv')\n",
    "test = pd.read_csv('political_vs_normal_test.csv')\n",
    "\n",
    "df_train = train.copy().dropna()\n",
    "\n",
    "df_test = test.copy().dropna()\n",
    "\n",
    "df_train, df_test, vectorizer, X_train, X_test, y_train, y_test, train_vectors, test_vectors = c1.all_cleaning(df_train, df_test, purpose = 'Get predictions')"
   ]
  },
  {
   "cell_type": "code",
   "execution_count": 5,
   "id": "31cf956e",
   "metadata": {},
   "outputs": [
    {
     "data": {
      "text/html": [
       "<div>\n",
       "<style scoped>\n",
       "    .dataframe tbody tr th:only-of-type {\n",
       "        vertical-align: middle;\n",
       "    }\n",
       "\n",
       "    .dataframe tbody tr th {\n",
       "        vertical-align: top;\n",
       "    }\n",
       "\n",
       "    .dataframe thead th {\n",
       "        text-align: right;\n",
       "    }\n",
       "</style>\n",
       "<table border=\"1\" class=\"dataframe\">\n",
       "  <thead>\n",
       "    <tr style=\"text-align: right;\">\n",
       "      <th></th>\n",
       "      <th>text</th>\n",
       "      <th>class</th>\n",
       "    </tr>\n",
       "  </thead>\n",
       "  <tbody>\n",
       "    <tr>\n",
       "      <th>0</th>\n",
       "      <td>temptations masterpiece japan vinyl lp swx exc...</td>\n",
       "      <td>1</td>\n",
       "    </tr>\n",
       "    <tr>\n",
       "      <th>1</th>\n",
       "      <td>zionism determination jews unhappy determinati...</td>\n",
       "      <td>1</td>\n",
       "    </tr>\n",
       "    <tr>\n",
       "      <th>2</th>\n",
       "      <td>green forest alert central african republic</td>\n",
       "      <td>1</td>\n",
       "    </tr>\n",
       "    <tr>\n",
       "      <th>3</th>\n",
       "      <td>good communication skills crucial product mana...</td>\n",
       "      <td>1</td>\n",
       "    </tr>\n",
       "    <tr>\n",
       "      <th>4</th>\n",
       "      <td>french guiana direct representation french nat...</td>\n",
       "      <td>1</td>\n",
       "    </tr>\n",
       "    <tr>\n",
       "      <th>...</th>\n",
       "      <td>...</td>\n",
       "      <td>...</td>\n",
       "    </tr>\n",
       "    <tr>\n",
       "      <th>34827</th>\n",
       "      <td>scale months ago months ago</td>\n",
       "      <td>0</td>\n",
       "    </tr>\n",
       "    <tr>\n",
       "      <th>34828</th>\n",
       "      <td>love men smoke weed wtf sexy yummy</td>\n",
       "      <td>0</td>\n",
       "    </tr>\n",
       "    <tr>\n",
       "      <th>34829</th>\n",
       "      <td>idk players press button edit early</td>\n",
       "      <td>0</td>\n",
       "    </tr>\n",
       "    <tr>\n",
       "      <th>34830</th>\n",
       "      <td>knew looked familiar lmao</td>\n",
       "      <td>0</td>\n",
       "    </tr>\n",
       "    <tr>\n",
       "      <th>34831</th>\n",
       "      <td>happy birthday bara</td>\n",
       "      <td>0</td>\n",
       "    </tr>\n",
       "  </tbody>\n",
       "</table>\n",
       "<p>34830 rows × 2 columns</p>\n",
       "</div>"
      ],
      "text/plain": [
       "                                                    text  class\n",
       "0      temptations masterpiece japan vinyl lp swx exc...      1\n",
       "1      zionism determination jews unhappy determinati...      1\n",
       "2            green forest alert central african republic      1\n",
       "3      good communication skills crucial product mana...      1\n",
       "4      french guiana direct representation french nat...      1\n",
       "...                                                  ...    ...\n",
       "34827                        scale months ago months ago      0\n",
       "34828                 love men smoke weed wtf sexy yummy      0\n",
       "34829                idk players press button edit early      0\n",
       "34830                          knew looked familiar lmao      0\n",
       "34831                                happy birthday bara      0\n",
       "\n",
       "[34830 rows x 2 columns]"
      ]
     },
     "execution_count": 5,
     "metadata": {},
     "output_type": "execute_result"
    }
   ],
   "source": [
    "df_train"
   ]
  },
  {
   "cell_type": "code",
   "execution_count": 6,
   "id": "ed9a4b61",
   "metadata": {},
   "outputs": [
    {
     "data": {
      "text/html": [
       "<div>\n",
       "<style scoped>\n",
       "    .dataframe tbody tr th:only-of-type {\n",
       "        vertical-align: middle;\n",
       "    }\n",
       "\n",
       "    .dataframe tbody tr th {\n",
       "        vertical-align: top;\n",
       "    }\n",
       "\n",
       "    .dataframe thead th {\n",
       "        text-align: right;\n",
       "    }\n",
       "</style>\n",
       "<table border=\"1\" class=\"dataframe\">\n",
       "  <thead>\n",
       "    <tr style=\"text-align: right;\">\n",
       "      <th></th>\n",
       "      <th>text</th>\n",
       "      <th>class</th>\n",
       "    </tr>\n",
       "  </thead>\n",
       "  <tbody>\n",
       "    <tr>\n",
       "      <th>0</th>\n",
       "      <td>russian soldiers crash foiled retreat kherson ...</td>\n",
       "      <td>1</td>\n",
       "    </tr>\n",
       "    <tr>\n",
       "      <th>1</th>\n",
       "      <td>alas santoses corrupt irresponsible body makin...</td>\n",
       "      <td>1</td>\n",
       "    </tr>\n",
       "    <tr>\n",
       "      <th>2</th>\n",
       "      <td>rlly fucked hispano latinos shit ton racism sh...</td>\n",
       "      <td>1</td>\n",
       "    </tr>\n",
       "    <tr>\n",
       "      <th>3</th>\n",
       "      <td>post unjust defendants pay normal consequences...</td>\n",
       "      <td>1</td>\n",
       "    </tr>\n",
       "    <tr>\n",
       "      <th>4</th>\n",
       "      <td>open jan dues ethics essay module commissioner...</td>\n",
       "      <td>1</td>\n",
       "    </tr>\n",
       "    <tr>\n",
       "      <th>...</th>\n",
       "      <td>...</td>\n",
       "      <td>...</td>\n",
       "    </tr>\n",
       "    <tr>\n",
       "      <th>14923</th>\n",
       "      <td>posted photo</td>\n",
       "      <td>0</td>\n",
       "    </tr>\n",
       "    <tr>\n",
       "      <th>14924</th>\n",
       "      <td>kind pleasure</td>\n",
       "      <td>0</td>\n",
       "    </tr>\n",
       "    <tr>\n",
       "      <th>14925</th>\n",
       "      <td>faith understand language</td>\n",
       "      <td>0</td>\n",
       "    </tr>\n",
       "    <tr>\n",
       "      <th>14926</th>\n",
       "      <td>york times laugh</td>\n",
       "      <td>0</td>\n",
       "    </tr>\n",
       "    <tr>\n",
       "      <th>14927</th>\n",
       "      <td>prelim airnow aqi good good good cawx westcovi...</td>\n",
       "      <td>0</td>\n",
       "    </tr>\n",
       "  </tbody>\n",
       "</table>\n",
       "<p>14927 rows × 2 columns</p>\n",
       "</div>"
      ],
      "text/plain": [
       "                                                    text  class\n",
       "0      russian soldiers crash foiled retreat kherson ...      1\n",
       "1      alas santoses corrupt irresponsible body makin...      1\n",
       "2      rlly fucked hispano latinos shit ton racism sh...      1\n",
       "3      post unjust defendants pay normal consequences...      1\n",
       "4      open jan dues ethics essay module commissioner...      1\n",
       "...                                                  ...    ...\n",
       "14923                                       posted photo      0\n",
       "14924                                      kind pleasure      0\n",
       "14925                          faith understand language      0\n",
       "14926                                   york times laugh      0\n",
       "14927  prelim airnow aqi good good good cawx westcovi...      0\n",
       "\n",
       "[14927 rows x 2 columns]"
      ]
     },
     "execution_count": 6,
     "metadata": {},
     "output_type": "execute_result"
    }
   ],
   "source": [
    "df_test"
   ]
  },
  {
   "cell_type": "code",
   "execution_count": 7,
   "id": "839ae3b6",
   "metadata": {},
   "outputs": [
    {
     "name": "stdout",
     "output_type": "stream",
     "text": [
      "Training time: 874.168014s; Prediction time: 14.054176s\n",
      "normal:  {'precision': 0.8835828600929272, 'recall': 0.9173254723301622, 'f1-score': 0.9001380579843534, 'support': 7463}\n",
      "political:  {'precision': 0.9140548822955843, 'recall': 0.8791532690246516, 'f1-score': 0.8962644266885201, 'support': 7464}\n"
     ]
    }
   ],
   "source": [
    "classifier_svm = svm.SVC(kernel='linear', probability=True)\n",
    "t0 = time.time()\n",
    "classifier_svm.fit(train_vectors, y_train)\n",
    "t1 = time.time()\n",
    "svm_pred = classifier_svm.predict(test_vectors)\n",
    "t2 = time.time()\n",
    "train_time = t1-t0\n",
    "predict_time = t2-t1\n",
    "print(\"Training time: %fs; Prediction time: %fs\" % (train_time, predict_time))\n",
    "report = classification_report(y_test, svm_pred, output_dict=True)\n",
    "print('normal: ', report['0'])\n",
    "print('political: ', report['1'])"
   ]
  },
  {
   "cell_type": "code",
   "execution_count": 8,
   "id": "74ab710f",
   "metadata": {},
   "outputs": [
    {
     "name": "stdout",
     "output_type": "stream",
     "text": [
      "Training time: 4.754938s; Prediction time: 0.816792s\n",
      "normal:  {'precision': 0.7005813953488372, 'recall': 0.9364866675599625, 'f1-score': 0.8015367853661334, 'support': 7463}\n",
      "political:  {'precision': 0.9042617652999394, 'recall': 0.5998124330117899, 'f1-score': 0.721224325412807, 'support': 7464}\n"
     ]
    }
   ],
   "source": [
    "classifier_rf = RandomForestClassifier(max_depth =6, n_estimators=1000)\n",
    "t0 = time.time()\n",
    "classifier_rf.fit(train_vectors, y_train)\n",
    "t1 = time.time()\n",
    "rf_pred = classifier_rf.predict(test_vectors)\n",
    "t2 = time.time()\n",
    "train_time = t1-t0\n",
    "predict_time = t2-t1\n",
    "print(\"Training time: %fs; Prediction time: %fs\" % (train_time, predict_time))\n",
    "report = classification_report(y_test, rf_pred, output_dict=True)\n",
    "print('normal: ', report['0'])\n",
    "print('political: ', report['1'])"
   ]
  },
  {
   "cell_type": "code",
   "execution_count": 7,
   "id": "f38d4913",
   "metadata": {},
   "outputs": [
    {
     "name": "stdout",
     "output_type": "stream",
     "text": [
      "[12:43:19] WARNING: C:/Users/Administrator/workspace/xgboost-win64_release_1.4.0/src/learner.cc:1095: Starting in XGBoost 1.3.0, the default evaluation metric used with the objective 'binary:logistic' was changed from 'error' to 'logloss'. Explicitly set eval_metric if you'd like to restore the old behavior.\n",
      "Training time: 30.581042s; Prediction time: 0.309070s\n",
      "normal:  {'precision': 0.8745850239763925, 'recall': 0.9531019697172719, 'f1-score': 0.9121569633239291, 'support': 7463}\n",
      "political:  {'precision': 0.948483956432146, 'recall': 0.8633440514469454, 'f1-score': 0.9039135923691962, 'support': 7464}\n"
     ]
    }
   ],
   "source": [
    "classifier_xgb = XGBClassifier(max_depth =6, n_estimators=1000)\n",
    "t0 = time.time()\n",
    "classifier_xgb.fit(train_vectors, y_train)\n",
    "t1 = time.time()\n",
    "xgb_pred = classifier_xgb.predict(test_vectors)\n",
    "t2 = time.time()\n",
    "train_time = t1-t0\n",
    "predict_time = t2-t1\n",
    "print(\"Training time: %fs; Prediction time: %fs\" % (train_time, predict_time))\n",
    "report = classification_report(y_test, xgb_pred, output_dict=True)\n",
    "print('normal: ', report['0'])\n",
    "print('political: ', report['1'])"
   ]
  },
  {
   "cell_type": "code",
   "execution_count": 15,
   "id": "8335d0d6",
   "metadata": {},
   "outputs": [
    {
     "name": "stdout",
     "output_type": "stream",
     "text": [
      "Training time: 92.957995s; Prediction time: 14.631092s\n",
      "normal:  {'precision': 0.7491492464754497, 'recall': 0.8259413104649604, 'f1-score': 0.785673315913581, 'support': 7463}\n",
      "political:  {'precision': 0.8060904612628751, 'recall': 0.7234726688102894, 'f1-score': 0.7625503071383182, 'support': 7464}\n"
     ]
    }
   ],
   "source": [
    "classifier_nb = GaussianNB()\n",
    "t0 = time.time()\n",
    "classifier_nb.fit(train_vectors.toarray(), y_train)\n",
    "t1 = time.time()\n",
    "nb_pred = classifier_nb.predict(test_vectors.toarray())\n",
    "t2 = time.time()\n",
    "train_time = t1-t0\n",
    "predict_time = t2-t1\n",
    "print(\"Training time: %fs; Prediction time: %fs\" % (train_time, predict_time))\n",
    "report = classification_report(y_test, nb_pred, output_dict=True)\n",
    "print('normal: ', report['0'])\n",
    "print('political: ', report['1'])"
   ]
  },
  {
   "cell_type": "code",
   "execution_count": 10,
   "id": "c13a1094",
   "metadata": {},
   "outputs": [
    {
     "name": "stdout",
     "output_type": "stream",
     "text": [
      "Training time: 3.941998s; Prediction time: 0.102023s\n",
      "normal:  {'precision': 0.8538443227802904, 'recall': 0.9612756264236902, 'f1-score': 0.9043807122596912, 'support': 7463}\n",
      "political:  {'precision': 0.9557088122605364, 'recall': 0.8354769560557342, 'f1-score': 0.8915576524412039, 'support': 7464}\n"
     ]
    }
   ],
   "source": [
    "classifier_lgb = lgb.LGBMClassifier(max_depth =6, n_estimators=1000)\n",
    "t0 = time.time()\n",
    "classifier_lgb.fit(train_vectors, y_train)\n",
    "t1 = time.time()\n",
    "lgb_pred = classifier_lgb.predict(test_vectors)\n",
    "t2 = time.time()\n",
    "train_time = t1-t0\n",
    "predict_time = t2-t1\n",
    "print(\"Training time: %fs; Prediction time: %fs\" % (train_time, predict_time))\n",
    "report = classification_report(y_test, lgb_pred, output_dict=True)\n",
    "print('normal: ', report['0'])\n",
    "print('political: ', report['1'])"
   ]
  },
  {
   "cell_type": "code",
   "execution_count": 11,
   "id": "6251ba87",
   "metadata": {},
   "outputs": [
    {
     "name": "stdout",
     "output_type": "stream",
     "text": [
      "normal:  {'precision': 0.8760279857616301, 'recall': 0.9563178346509447, 'f1-score': 0.9144138372837924, 'support': 7463}\n",
      "political:  {'precision': 0.9519174041297935, 'recall': 0.8646838156484459, 'f1-score': 0.9062061218758775, 'support': 7464}\n"
     ]
    }
   ],
   "source": [
    "ensemble_pred = []\n",
    "for i in range(len(svm_pred)):\n",
    "    if svm_pred[i]+lgb_pred[i]+xgb_pred[i] >= 2:\n",
    "        ensemble_pred.append(1)\n",
    "    else:\n",
    "        ensemble_pred.append(0)\n",
    "\n",
    "report = classification_report(y_test, ensemble_pred, output_dict=True)\n",
    "print('normal: ', report['0'])\n",
    "print('political: ', report['1'])"
   ]
  },
  {
   "cell_type": "code",
   "execution_count": null,
   "id": "2f52812a",
   "metadata": {},
   "outputs": [],
   "source": [
    "def predict(classifier, documents):\n",
    "    if classifier == 'Ensemble':\n",
    "        for document in documents:\n",
    "            document_vector = vectorizer.transform([document])\n",
    "            if classifier_svm.predict(document_vector)+classifier_xgb.predict(document_vector)+classifier_lgb.predict(document_vector) <= 1:\n",
    "                print('Document: '+document+', Classifier says Not political,', 'probabilty of it being political:')\n",
    "                print('SVM probability =',classifier_svm.predict_proba(document_vector)[0][1], 'XGBoost probability =',classifier_xgb.predict_proba(document_vector)[0][1], 'LightGBM probability =',classifier_lgb.predict_proba(document_vector)[0][1])\n",
    "                print(' ')\n",
    "            else:\n",
    "                print('Document: '+document+', Classifier says political,', 'probabilty of it being political:')\n",
    "                print('SVM probability =',classifier_svm.predict_proba(document_vector)[0][1], 'XGBoost probability =',classifier_xgb.predict_proba(document_vector)[0][1], 'LightGBM probability =',classifier_lgb.predict_proba(document_vector)[0][1])           \n",
    "                print(' ')\n",
    "        print(' ')\n",
    "        return\n",
    "        \n",
    "    for document in documents:\n",
    "        document_vector = vectorizer.transform([document])\n",
    "        if classifier.predict(document_vector) == 0:\n",
    "            print('Document: '+document+', Classifier says Not political,', 'probabilty of it being political:')\n",
    "            print(classifier.predict_proba(document_vector)[0][1])\n",
    "            print(' ')\n",
    "        else:\n",
    "            print('Document: '+document+', Classifier says political,', 'probabilty of it being political:')\n",
    "            print(classifier.predict_proba(document_vector)[0][1])\n",
    "            print(' ')\n",
    "        print(' ')\n",
    "documents = ['conflict between cats this is so funny I am so happy']\n",
    "#'I love politics but my cat doesnt so I will go to the park to start a war cat cat dogs happy funny', \n",
    "\n",
    "print('SVM')\n",
    "predict(classifier_svm, documents)\n",
    "\n",
    "print('Random Forest')\n",
    "predict(classifier_rf, documents)\n",
    "\n",
    "print('XGBoost')\n",
    "predict(classifier_xgb, documents)\n",
    "\n",
    "print('LighGBM')\n",
    "predict(classifier_lgb, documents)\n",
    "\n",
    "print('NB')\n",
    "predict(classifier_nb, documents)\n",
    "\n",
    "print('Ensemble')\n",
    "predict('Ensemble', documents)"
   ]
  },
  {
   "cell_type": "code",
   "execution_count": 18,
   "id": "510ab60c",
   "metadata": {},
   "outputs": [],
   "source": [
    "def evaluate(y_test, y_pred, model_name = ''):\n",
    "    print('Model:',model_name)\n",
    "    cf_matrix = confusion_matrix(y_test, y_pred)\n",
    "    ax = sns.heatmap(cf_matrix, annot=True, fmt='g')\n",
    "    ax.set_xlabel('Predicted labels');ax.set_ylabel('True labels')\n",
    "    ax.set_title('Confusion Matrix')\n",
    "    ax.xaxis.set_ticklabels(['normal', 'political']); ax.yaxis.set_ticklabels(['normal', 'political'])\n",
    "    plt.show()\n",
    "\n",
    "    fpr, tpr, thresholds = metrics.roc_curve(y_test, y_pred)\n",
    "    AUC = metrics.auc(fpr, tpr)\n",
    "\n",
    "    ACCURACY = accuracy_score(y_test, y_pred)\n",
    "\n",
    "    PRECISION = precision_score(y_test, y_pred)\n",
    "\n",
    "    F1_SCORE = f1_score(y_test, y_pred)\n",
    "\n",
    "    RECALL = recall_score(y_test, y_pred)\n",
    "\n",
    "    print('Accuracy =', ACCURACY)\n",
    "    print('Precision =', PRECISION)\n",
    "    print('Recall =', RECALL)\n",
    "    print('F1 score =', F1_SCORE)\n",
    "    print('AUC =', AUC)\n",
    "    print('############################################################################')\n",
    "    print('')"
   ]
  },
  {
   "cell_type": "code",
   "execution_count": 30,
   "id": "03af957a",
   "metadata": {},
   "outputs": [
    {
     "name": "stdout",
     "output_type": "stream",
     "text": [
      "Model: SVM\n"
     ]
    },
    {
     "data": {
      "image/png": "[encoded data removed]",
      "text/plain": [
       "<Figure size 432x288 with 2 Axes>"
      ]
     },
     "metadata": {
      "needs_background": "light"
     },
     "output_type": "display_data"
    },
    {
     "name": "stdout",
     "output_type": "stream",
     "text": [
      "Accuracy = 0.8982380920479668\n",
      "Precision = 0.9140548822955843\n",
      "Recall = 0.8791532690246516\n",
      "F1 score = 0.8962644266885201\n",
      "AUC = 0.8982393706774068\n",
      "############################################################################\n",
      "\n",
      "Model: Random Forest\n"
     ]
    },
    {
     "data": {
      "image/png": "[encoded data removed]",
      "text/plain": [
       "<Figure size 432x288 with 2 Axes>"
      ]
     },
     "metadata": {
      "needs_background": "light"
     },
     "output_type": "display_data"
    },
    {
     "name": "stdout",
     "output_type": "stream",
     "text": [
      "Accuracy = 0.7681382729282509\n",
      "Precision = 0.9042617652999394\n",
      "Recall = 0.5998124330117899\n",
      "F1 score = 0.721224325412807\n",
      "AUC = 0.7681495502858762\n",
      "############################################################################\n",
      "\n",
      "Model: XGBoost\n"
     ]
    },
    {
     "data": {
      "image/png": "[encoded data removed]",
      "text/plain": [
       "<Figure size 432x288 with 2 Axes>"
      ]
     },
     "metadata": {
      "needs_background": "light"
     },
     "output_type": "display_data"
    },
    {
     "name": "stdout",
     "output_type": "stream",
     "text": [
      "Accuracy = 0.9082200040195618\n",
      "Precision = 0.948483956432146\n",
      "Recall = 0.8633440514469454\n",
      "F1 score = 0.9039135923691962\n",
      "AUC = 0.9082230105821087\n",
      "############################################################################\n",
      "\n",
      "Model: LightGBM\n"
     ]
    },
    {
     "data": {
      "image/png": "[encoded data removed]",
      "text/plain": [
       "<Figure size 432x288 with 2 Axes>"
      ]
     },
     "metadata": {
      "needs_background": "light"
     },
     "output_type": "display_data"
    },
    {
     "name": "stdout",
     "output_type": "stream",
     "text": [
      "Accuracy = 0.8983720774435586\n",
      "Precision = 0.9557088122605364\n",
      "Recall = 0.8354769560557342\n",
      "F1 score = 0.8915576524412039\n",
      "AUC = 0.8983762912397122\n",
      "############################################################################\n",
      "\n",
      "Model: Ensemble\n"
     ]
    },
    {
     "data": {
      "image/png": "[encoded data removed]",
      "text/plain": [
       "<Figure size 432x288 with 2 Axes>"
      ]
     },
     "metadata": {
      "needs_background": "light"
     },
     "output_type": "display_data"
    },
    {
     "name": "stdout",
     "output_type": "stream",
     "text": [
      "Accuracy = 0.9104977557446239\n",
      "Precision = 0.9519174041297935\n",
      "Recall = 0.8646838156484459\n",
      "F1 score = 0.9062061218758775\n",
      "AUC = 0.9105008251496953\n",
      "############################################################################\n",
      "\n"
     ]
    }
   ],
   "source": [
    "evaluate(y_test, svm_pred, 'SVM')\n",
    "evaluate(y_test, rf_pred, 'Random Forest')\n",
    "evaluate(y_test, xgb_pred, 'XGBoost')\n",
    "evaluate(y_test, lgb_pred, 'LightGBM')\n",
    "evaluate(y_test, ensemble_pred, 'Ensemble')\n",
    "evaluate(y_test, nb_pred, 'Naive Bayes')"
   ]
  },
  {
   "cell_type": "code",
   "execution_count": 19,
   "id": "ab62c649",
   "metadata": {},
   "outputs": [
    {
     "name": "stdout",
     "output_type": "stream",
     "text": [
      "Model: Naive Bayes\n"
     ]
    },
    {
     "data": {
      "image/png": "[encoded data removed]",
      "text/plain": [
       "<Figure size 432x288 with 2 Axes>"
      ]
     },
     "metadata": {
      "needs_background": "light"
     },
     "output_type": "display_data"
    },
    {
     "name": "stdout",
     "output_type": "stream",
     "text": [
      "Accuracy = 0.7747035573122529\n",
      "Precision = 0.8060904612628751\n",
      "Recall = 0.7234726688102894\n",
      "F1 score = 0.7625503071383182\n",
      "AUC = 0.7747069896376249\n",
      "############################################################################\n",
      "\n"
     ]
    }
   ],
   "source": [
    "evaluate(y_test, nb_pred, 'Naive Bayes')"
   ]
  },
  {
   "cell_type": "code",
   "execution_count": 59,
   "id": "4e8c94d3",
   "metadata": {},
   "outputs": [],
   "source": [
    "allData = pd.concat([X_train, X_test]).reset_index().drop('index', axis=1)\n",
    "allClass = pd.concat([y_train, y_test]).reset_index().drop('index', axis=1)\n",
    "\n",
    "vectorizer2 = TfidfVectorizer(sublinear_tf = True,\n",
    "                             use_idf = True)\n",
    "allData_vectors = vectorizer2.fit_transform(allData['text'])"
   ]
  },
  {
   "cell_type": "code",
   "execution_count": 61,
   "id": "252c8aa0",
   "metadata": {},
   "outputs": [
    {
     "data": {
      "text/plain": [
       "SVC(kernel='linear', probability=True)"
      ]
     },
     "execution_count": 61,
     "metadata": {},
     "output_type": "execute_result"
    }
   ],
   "source": [
    "classifier_svm = svm.SVC(kernel='linear', probability=True)\n",
    "classifier_svm.fit(allData_vectors, allClass)"
   ]
  },
  {
   "cell_type": "code",
   "execution_count": 60,
   "id": "88464a39",
   "metadata": {},
   "outputs": [
    {
     "name": "stdout",
     "output_type": "stream",
     "text": [
      "[13:47:52] WARNING: C:/Users/Administrator/workspace/xgboost-win64_release_1.4.0/src/learner.cc:1095: Starting in XGBoost 1.3.0, the default evaluation metric used with the objective 'binary:logistic' was changed from 'error' to 'logloss'. Explicitly set eval_metric if you'd like to restore the old behavior.\n"
     ]
    },
    {
     "data": {
      "text/plain": [
       "LGBMClassifier(max_depth=6, n_estimators=1000)"
      ]
     },
     "execution_count": 60,
     "metadata": {},
     "output_type": "execute_result"
    }
   ],
   "source": [
    "classifier_xgb = XGBClassifier(max_depth =6, n_estimators=1000)\n",
    "classifier_xgb.fit(allData_vectors, allClass)\n",
    "\n",
    "classifier_lgb = lgb.LGBMClassifier(max_depth =6, n_estimators=1000)\n",
    "classifier_lgb.fit(allData_vectors, allClass)"
   ]
  },
  {
   "cell_type": "code",
   "execution_count": 66,
   "id": "39c3f905",
   "metadata": {},
   "outputs": [
    {
     "name": "stdout",
     "output_type": "stream",
     "text": [
      "Model: SVM\n"
     ]
    },
    {
     "data": {
      "image/png": "[encoded data removed]",
      "text/plain": [
       "<Figure size 432x288 with 2 Axes>"
      ]
     },
     "metadata": {
      "needs_background": "light"
     },
     "output_type": "display_data"
    },
    {
     "name": "stdout",
     "output_type": "stream",
     "text": [
      "Accuracy = 0.9446640316205533\n",
      "Precision = 0.9621275410749095\n",
      "Recall = 0.9257770632368703\n",
      "F1 score = 0.9436023487641677\n",
      "AUC = 0.9446652969942894\n",
      "############################################################################\n",
      "\n",
      "Model: XGBoost\n"
     ]
    },
    {
     "data": {
      "image/png": "[encoded data removed]",
      "text/plain": [
       "<Figure size 432x288 with 2 Axes>"
      ]
     },
     "metadata": {
      "needs_background": "light"
     },
     "output_type": "display_data"
    },
    {
     "name": "stdout",
     "output_type": "stream",
     "text": [
      "Accuracy = 0.9419843237087158\n",
      "Precision = 0.978670922809054\n",
      "Recall = 0.9036709539121115\n",
      "F1 score = 0.9396767901922541\n",
      "AUC = 0.9419868905966828\n",
      "############################################################################\n",
      "\n",
      "Model: LighGBM\n"
     ]
    },
    {
     "data": {
      "image/png": "[encoded data removed]",
      "text/plain": [
       "<Figure size 432x288 with 2 Axes>"
      ]
     },
     "metadata": {
      "needs_background": "light"
     },
     "output_type": "display_data"
    },
    {
     "name": "stdout",
     "output_type": "stream",
     "text": [
      "Accuracy = 0.9116366316071548\n",
      "Precision = 0.9658832448824868\n",
      "Recall = 0.8534297963558414\n",
      "F1 score = 0.9061810939611638\n",
      "AUC = 0.9116405313013296\n",
      "############################################################################\n",
      "\n"
     ]
    }
   ],
   "source": [
    "test_vectors2 = vectorizer2.transform(X_test)\n",
    "\n",
    "svm_pred = classifier_svm.predict(test_vectors2)\n",
    "xgb_pred = classifier_xgb.predict(test_vectors2)\n",
    "lgb_pred = classifier_lgb.predict(test_vectors2)\n",
    "\n",
    "evaluate(y_test, svm_pred, 'SVM')\n",
    "evaluate(y_test, xgb_pred, 'XGBoost')\n",
    "evaluate(y_test, lgb_pred, 'LighGBM')"
   ]
  },
  {
   "cell_type": "code",
   "execution_count": 63,
   "id": "a8fb9c24",
   "metadata": {},
   "outputs": [],
   "source": [
    "import pickle"
   ]
  },
  {
   "cell_type": "code",
   "execution_count": 68,
   "id": "ffb340cc",
   "metadata": {},
   "outputs": [],
   "source": [
    "pickle.dump(classifier_svm, open('classifier_svm.pkl','wb'))\n",
    "pickle.dump(classifier_xgb, open('classifier_xgb.pkl','wb'))\n",
    "pickle.dump(classifier_lgb, open('classifier_lgb.pkl','wb'))\n",
    "#pickle.dump(classifier_rf, open('classifier_rf.pkl','wb'))\n",
    "pickle.dump(vectorizer2, open('vectorizer2.pkl','wb'))"
   ]
  },
  {
   "cell_type": "code",
   "execution_count": 40,
   "id": "9ac037e3",
   "metadata": {},
   "outputs": [
    {
     "name": "stdout",
     "output_type": "stream",
     "text": [
      "1.4.2\n"
     ]
    }
   ],
   "source": [
    "import xgboost\n",
    "print(xgboost.__version__)"
   ]
  },
  {
   "cell_type": "code",
   "execution_count": null,
   "id": "8410fe4c",
   "metadata": {},
   "outputs": [],
   "source": []
  }
 ],
 "metadata": {
  "kernelspec": {
   "display_name": "Python 3",
   "language": "python",
   "name": "python3"
  },
  "language_info": {
   "codemirror_mode": {
    "name": "ipython",
    "version": 3
   },
   "file_extension": ".py",
   "mimetype": "text/x-python",
   "name": "python",
   "nbconvert_exporter": "python",
   "pygments_lexer": "ipython3",
   "version": "3.8.8"
  }
 },
 "nbformat": 4,
 "nbformat_minor": 5
}
